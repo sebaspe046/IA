{
  "nbformat": 4,
  "nbformat_minor": 0,
  "metadata": {
    "colab": {
      "provenance": []
    },
    "kernelspec": {
      "name": "python3",
      "display_name": "Python 3"
    },
    "language_info": {
      "name": "python"
    }
  },
  "cells": [
    {
      "cell_type": "markdown",
      "source": [
        "# **Modelo con preprocesado y Regresion Logistica**\n",
        "Importamos las librerias necesarias para el preprocesado y entrenamiento del modelo\n",
        "\n"
      ],
      "metadata": {
        "id": "_3IltkTdGKKP"
      }
    },
    {
      "cell_type": "code",
      "execution_count": 1,
      "metadata": {
        "colab": {
          "base_uri": "https://localhost:8080/",
          "height": 335
        },
        "id": "sOl_0WHLi0-p",
        "outputId": "717c87c8-9724-40e7-dea6-5eb03189a2aa"
      },
      "outputs": [
        {
          "output_type": "stream",
          "name": "stdout",
          "text": [
            "Requirement already satisfied: kaggle in /usr/local/lib/python3.11/dist-packages (1.7.4.5)\n",
            "Requirement already satisfied: bleach in /usr/local/lib/python3.11/dist-packages (from kaggle) (6.2.0)\n",
            "Requirement already satisfied: certifi>=14.05.14 in /usr/local/lib/python3.11/dist-packages (from kaggle) (2025.6.15)\n",
            "Requirement already satisfied: charset-normalizer in /usr/local/lib/python3.11/dist-packages (from kaggle) (3.4.2)\n",
            "Requirement already satisfied: idna in /usr/local/lib/python3.11/dist-packages (from kaggle) (3.10)\n",
            "Requirement already satisfied: protobuf in /usr/local/lib/python3.11/dist-packages (from kaggle) (5.29.5)\n",
            "Requirement already satisfied: python-dateutil>=2.5.3 in /usr/local/lib/python3.11/dist-packages (from kaggle) (2.9.0.post0)\n",
            "Requirement already satisfied: python-slugify in /usr/local/lib/python3.11/dist-packages (from kaggle) (8.0.4)\n",
            "Requirement already satisfied: requests in /usr/local/lib/python3.11/dist-packages (from kaggle) (2.32.3)\n",
            "Requirement already satisfied: setuptools>=21.0.0 in /usr/local/lib/python3.11/dist-packages (from kaggle) (75.2.0)\n",
            "Requirement already satisfied: six>=1.10 in /usr/local/lib/python3.11/dist-packages (from kaggle) (1.17.0)\n",
            "Requirement already satisfied: text-unidecode in /usr/local/lib/python3.11/dist-packages (from kaggle) (1.3)\n",
            "Requirement already satisfied: tqdm in /usr/local/lib/python3.11/dist-packages (from kaggle) (4.67.1)\n",
            "Requirement already satisfied: urllib3>=1.15.1 in /usr/local/lib/python3.11/dist-packages (from kaggle) (2.4.0)\n",
            "Requirement already satisfied: webencodings in /usr/local/lib/python3.11/dist-packages (from kaggle) (0.5.1)\n"
          ]
        },
        {
          "output_type": "display_data",
          "data": {
            "text/plain": [
              "<IPython.core.display.HTML object>"
            ],
            "text/html": [
              "\n",
              "<meta name=\"google-signin-client_id\"\n",
              "      content=\"461673936472-kdjosv61up3ac1ajeuq6qqu72upilmls.apps.googleusercontent.com\"/>\n",
              "<script src=\"https://apis.google.com/js/client:platform.js?onload=google_button_start\"></script>\n",
              "    "
            ]
          },
          "metadata": {}
        },
        {
          "output_type": "stream",
          "name": "stdout",
          "text": [
            "replicating local resources\n"
          ]
        },
        {
          "output_type": "execute_result",
          "data": {
            "text/plain": [
              "<IPython.core.display.HTML object>"
            ],
            "text/html": [
              "<h3>See <a href='https://m5knaekxo6.execute-api.us-west-2.amazonaws.com/dev-v0001/rlxmooc/web/login' target='_blank'>my courses and progress</a></h2>"
            ]
          },
          "metadata": {},
          "execution_count": 1
        }
      ],
      "source": [
        "!pip install kaggle\n",
        "\n",
        "import pandas as pd\n",
        "import seaborn as sns\n",
        "import numpy as np\n",
        "import matplotlib.pyplot as plt\n",
        "import os\n",
        "import json\n",
        "from sklearn.model_selection import train_test_split\n",
        "from sklearn.linear_model import LogisticRegression\n",
        "from sklearn.metrics import accuracy_score, classification_report\n",
        "from sklearn.preprocessing import LabelEncoder\n",
        "import time\n",
        "\n",
        "!wget --no-cache -O init.py -q https://raw.githubusercontent.com/rramosp/ai4eng.v1/main/content/init.py\n",
        "import init; init.init(force_download=False); init.get_weblink()"
      ]
    },
    {
      "cell_type": "markdown",
      "source": [
        "# **DESCARGAMOS LOS ARCHIVOS DE LA COMPETENCIA**"
      ],
      "metadata": {
        "id": "JOUrlgbAGcZA"
      }
    },
    {
      "cell_type": "code",
      "source": [
        "os.environ['KAGGLE_CONFIG_DIR']='/content/'\n",
        "\n",
        "data = {\"username\":\"sebastianperez046\",\"key\":\"0f49b093f2381a31b904a5eff24cbe36\"}\n",
        "with open('kaggle.json','w') as file:\n",
        "  json.dump(data, file, indent=4)\n",
        "\n",
        "!kaggle competitions download -c udea-ai-4-eng-20251-pruebas-saber-pro-colombia\n",
        "\n",
        "!unzip \\*.zip && rm *.zip\n",
        "\n",
        "!wc *.csv\n",
        "\n",
        "df_train = pd.read_csv(\"train.csv\")\n",
        "df_test = pd.read_csv(\"test.csv\")\n",
        "\n",
        "print (\"shape of loaded dataframe\", df_train.shape)\n",
        "print (\"shape of loaded dataframe\", df_test.shape)"
      ],
      "metadata": {
        "colab": {
          "base_uri": "https://localhost:8080/"
        },
        "id": "Vjk18hEkGaG-",
        "outputId": "b5210410-a7a8-4822-ae8c-1f5dd79dd5fe"
      },
      "execution_count": 2,
      "outputs": [
        {
          "output_type": "stream",
          "name": "stdout",
          "text": [
            "Warning: Your Kaggle API key is readable by other users on this system! To fix this, you can run 'chmod 600 /content/kaggle.json'\n",
            "Downloading udea-ai-4-eng-20251-pruebas-saber-pro-colombia.zip to /content\n",
            "  0% 0.00/29.9M [00:00<?, ?B/s]\n",
            "100% 29.9M/29.9M [00:00<00:00, 918MB/s]\n",
            "Archive:  udea-ai-4-eng-20251-pruebas-saber-pro-colombia.zip\n",
            "  inflating: submission_example.csv  \n",
            "  inflating: test.csv                \n",
            "  inflating: train.csv               \n",
            "   296787    296787   4716673 submission_example.csv\n",
            "   296787   4565553  59185250 test.csv\n",
            "   692501  10666231 143732449 train.csv\n",
            "  1286075  15528571 207634372 total\n",
            "shape of loaded dataframe (692500, 21)\n",
            "shape of loaded dataframe (296786, 20)\n"
          ]
        }
      ]
    },
    {
      "cell_type": "markdown",
      "source": [
        "#**Funcion clean_data**\n",
        "\n",
        "1.   Se reemplazan los datos faltantes por la moda\n",
        "2.   Se normalizan los valores en varias columnas\n",
        "3.   Se hace una normalización especifica pala la columna ESTU_PRGM_ACADEMICO"
      ],
      "metadata": {
        "id": "SfsrkHLfGhmD"
      }
    },
    {
      "cell_type": "code",
      "source": [
        "def clean_data(z_copy):\n",
        "    #Variables Categoricas\n",
        "  ccols = [i for i in z_copy.columns if not i in z_copy._get_numeric_data()]\n",
        "  print (ccols)\n",
        "\n",
        "    #Valor mas repetido\n",
        "  valor_comun = z_copy[ccols].mode().iloc[0]\n",
        "  valor_comun\n",
        "\n",
        "  #Reemplazar datos faltantes con los mas repetidos\n",
        "  for column in ccols:\n",
        "    z_copy[column].fillna(valor_comun[column], inplace=True)\n",
        "  #Modificar la columna valor de la matricula\n",
        "  z_copy['ESTU_VALORMATRICULAUNIVERSIDAD'].replace(['No pagó matrícula'],[0],inplace=True)\n",
        "  z_copy['ESTU_VALORMATRICULAUNIVERSIDAD'].replace(['Menos de 500 mil'],[1],inplace=True)\n",
        "  z_copy['ESTU_VALORMATRICULAUNIVERSIDAD'].replace(['Entre 500 mil y menos de 1 millón'],[2],inplace=True)\n",
        "  z_copy['ESTU_VALORMATRICULAUNIVERSIDAD'].replace(['Entre 1 millón y menos de 2.5 millones'],[3],inplace=True)\n",
        "  z_copy['ESTU_VALORMATRICULAUNIVERSIDAD'].replace(['Entre 2.5 millones y menos de 4 millones'],[4],inplace=True)\n",
        "  z_copy['ESTU_VALORMATRICULAUNIVERSIDAD'].replace(['Entre 4 millones y menos de 5.5 millones'],[5],inplace=True)\n",
        "  z_copy['ESTU_VALORMATRICULAUNIVERSIDAD'].replace(['Entre 5.5 millones y menos de 7 millones'],[6],inplace=True)\n",
        "  z_copy['ESTU_VALORMATRICULAUNIVERSIDAD'].replace(['Más de 7 millones'],[7],inplace=True)\n",
        "\n",
        "  #Modificar la columna horas que trabaja a la semana\n",
        "  z_copy['ESTU_HORASSEMANATRABAJA'].replace(['0','Menos de 10 horas','Entre 11 y 20 horas','Entre 21 y 30 horas','Más de 30 horas'],[0,1,2,3,4],inplace=True)\n",
        "\n",
        "  #Modificar la columna estrato de la vivienda\n",
        "  z_copy['FAMI_ESTRATOVIVIENDA'].replace(['Estrato 1','Estrato 2','Estrato 3','Estrato 4','Estrato 5','Estrato 6','Sin Estrato'],[1,2,3,4,5,6,0],inplace=True)\n",
        "\n",
        "  #z_copy['RENDIMIENTO_GLOBAL'].replace(['bajo','medio-bajo','medio-alto','alto'],[1,2,3,4],inplace=True)\n",
        "\n",
        "  #Modificar las columnas de Si y No por 1 y 0\n",
        "  z_copy[\"FAMI_TIENEINTERNET\"] = z_copy[\"FAMI_TIENEINTERNET\"].replace({'Si': 1, 'No': 0})\n",
        "  z_copy[\"ESTU_PAGOMATRICULAPROPIO\"] = z_copy[\"ESTU_PAGOMATRICULAPROPIO\"].replace({'Si': 1, 'No': 0})\n",
        "  z_copy[\"FAMI_TIENELAVADORA\"] = z_copy[\"FAMI_TIENELAVADORA\"].replace({'Si': 1, 'No': 0})\n",
        "  z_copy[\"FAMI_TIENEAUTOMOVIL\"] = z_copy[\"FAMI_TIENEAUTOMOVIL\"].replace({'Si': 1, 'No': 0})\n",
        "  z_copy[\"ESTU_PRIVADO_LIBERTAD\"] = z_copy[\"ESTU_PRIVADO_LIBERTAD\"].replace({'S': 1, 'N': 0})\n",
        "  z_copy[\"FAMI_TIENECOMPUTADOR\"] = z_copy[\"FAMI_TIENECOMPUTADOR\"].replace({'Si': 1, 'No': 0})\n",
        "  z_copy[\"FAMI_TIENEINTERNET.1\"] = z_copy[\"FAMI_TIENEINTERNET.1\"].replace({'Si': 1, 'No': 0})\n",
        "\n",
        "\n",
        "\n",
        "  #Modificar la columna del Programa academico\n",
        "  z_copy['ESTU_PRGM_ACADEMICO'] = z_copy['ESTU_PRGM_ACADEMICO'].str.replace('PROFESIONAL EN ', '')\n",
        "  z_copy['ESTU_PRGM_ACADEMICO'] = z_copy['ESTU_PRGM_ACADEMICO'].str.replace('PROFESIONAL DE ', '')\n",
        "  z_copy['ESTU_PRGM_ACADEMICO'] = z_copy['ESTU_PRGM_ACADEMICO'].str.replace('PROFESIONAL ', '')\n",
        "  z_copy['ESTU_PRGM_ACADEMICO'] = z_copy['ESTU_PRGM_ACADEMICO'].str.replace('PROGRAMA ', '')\n",
        "\n",
        "  z_copy['ESTU_PRGM_ACADEMICO'] = z_copy['ESTU_PRGM_ACADEMICO'].apply(lambda x: 'INGENIERIA' if x.startswith('INGE') else x)\n",
        "  z_copy['ESTU_PRGM_ACADEMICO'] = z_copy['ESTU_PRGM_ACADEMICO'].apply(lambda x: 'LICENCIATURA' if x.startswith('LIC') or x.startswith('Lic') else x)\n",
        "  z_copy['ESTU_PRGM_ACADEMICO'] = z_copy['ESTU_PRGM_ACADEMICO'].apply(lambda x: 'ADMINISTRACION' if x.startswith('ADM')   else x)\n",
        "  z_copy['ESTU_PRGM_ACADEMICO'] = z_copy['ESTU_PRGM_ACADEMICO'].apply(lambda x: 'CONTADURIA' if x.startswith('CONT')   else x)\n",
        "  z_copy['ESTU_PRGM_ACADEMICO'] = z_copy['ESTU_PRGM_ACADEMICO'].apply(lambda x: 'COMUNICACION' if x.startswith('COMU')   else x)\n",
        "  z_copy['ESTU_PRGM_ACADEMICO'] = z_copy['ESTU_PRGM_ACADEMICO'].apply(lambda x: 'DEPORTE' if 'DEPORT'  in x else x)\n",
        "  z_copy['ESTU_PRGM_ACADEMICO'] = z_copy['ESTU_PRGM_ACADEMICO'].apply(lambda x: 'PSICOLOGIA' if 'PSIC' in x else x)\n",
        "  z_copy['ESTU_PRGM_ACADEMICO'] = z_copy['ESTU_PRGM_ACADEMICO'].apply(lambda x: 'TRABAJO SOCIAL' if 'TRABAJO SOCIAL' in x else x)\n",
        "  z_copy['ESTU_PRGM_ACADEMICO'] = z_copy['ESTU_PRGM_ACADEMICO'].apply(lambda x: 'DISEÑO' if 'DISE' in x else x)\n",
        "  z_copy['ESTU_PRGM_ACADEMICO'] = z_copy['ESTU_PRGM_ACADEMICO'].apply(lambda x: 'TERAPIA' if 'TERAP' in x else x)\n",
        "  z_copy['ESTU_PRGM_ACADEMICO'] = z_copy['ESTU_PRGM_ACADEMICO'].apply(lambda x: 'GASTRONOMIA' if 'GASTRON' in x else x)\n",
        "  z_copy['ESTU_PRGM_ACADEMICO'] = z_copy['ESTU_PRGM_ACADEMICO'].apply(lambda x: 'VETERINARIA Y ZOOTECNIA' if 'ZOOTECNIA' in x else x)\n",
        "  z_copy['ESTU_PRGM_ACADEMICO'] = z_copy['ESTU_PRGM_ACADEMICO'].apply(lambda x: 'NUTRICION' if 'NUTRIC' in x else x)\n",
        "  z_copy['ESTU_PRGM_ACADEMICO'] = z_copy['ESTU_PRGM_ACADEMICO'].apply(lambda x: 'MARKETING' if ( 'MARKETING' in x or 'PUBLICIDAD' in x or 'MERCAD' in x) else x)\n",
        "  z_copy['ESTU_PRGM_ACADEMICO'] = z_copy['ESTU_PRGM_ACADEMICO'].apply(lambda x: 'MATEMATICAS Y ESTADISTICA' if ('MATE' in x or 'ESTA' in x) else x)\n",
        "  z_copy['ESTU_PRGM_ACADEMICO'] = z_copy['ESTU_PRGM_ACADEMICO'].apply(lambda x: 'ARTES' if 'ARTE' in x else x)\n",
        "  z_copy['ESTU_PRGM_ACADEMICO'] = z_copy['ESTU_PRGM_ACADEMICO'].apply(lambda x: 'PERIODISMO' if 'PERIOD' in x else x)\n",
        "  z_copy['ESTU_PRGM_ACADEMICO'] = z_copy['ESTU_PRGM_ACADEMICO'].apply(lambda x: 'LITERATURA' if 'LITER' in x else x)\n",
        "  z_copy['ESTU_PRGM_ACADEMICO'] = z_copy['ESTU_PRGM_ACADEMICO'].apply(lambda x: 'MUSICA' if ('MUS' in x or 'MÚS' in x) else x)\n",
        "  z_copy['ESTU_PRGM_ACADEMICO'] = z_copy['ESTU_PRGM_ACADEMICO'].apply(lambda x: 'ECONOMIA Y NEGOCIOS' if ('ECONO' in x or 'NEG' in x or 'COME' in x or 'FIN' in x) else x)\n",
        "  z_copy['ESTU_PRGM_ACADEMICO'] = z_copy['ESTU_PRGM_ACADEMICO'].apply(lambda x: 'CIENCIAS DE LA TIERRA' if 'GEO' in x else x)\n",
        "  z_copy['ESTU_PRGM_ACADEMICO'] = z_copy['ESTU_PRGM_ACADEMICO'].apply(lambda x: 'CIENCIAS AUDIOVISUALES' if ('CINE' in x or 'RADIO' in x or 'TELEV' in x or 'AUDIOV' in x or 'FOTOG' in x) else x)\n",
        "  z_copy['ESTU_PRGM_ACADEMICO'] = z_copy['ESTU_PRGM_ACADEMICO'].apply(lambda x: 'DERECHO' if 'DERECHO' in x else x)\n",
        "  z_copy['ESTU_PRGM_ACADEMICO'] = z_copy['ESTU_PRGM_ACADEMICO'].apply(lambda x: 'CIENCIAS POLITICAS' if ( 'POLIT' in x or 'POLÍT' in x) else x)\n",
        "  z_copy['ESTU_PRGM_ACADEMICO'] = z_copy['ESTU_PRGM_ACADEMICO'].apply(lambda x: 'INGENIERIA' if 'INGE' in x else x)\n",
        "  z_copy['ESTU_PRGM_ACADEMICO'] = z_copy['ESTU_PRGM_ACADEMICO'].apply(lambda x: 'QUIMICA' if ('QUIM' in x or 'QUÍM' in x or 'QU¿M' in x) else x)\n",
        "  z_copy['ESTU_PRGM_ACADEMICO'] = z_copy['ESTU_PRGM_ACADEMICO'].apply(lambda x: 'CONSTRUCCION' if 'CONST' in x else x)\n",
        "  z_copy['ESTU_PRGM_ACADEMICO'] = z_copy['ESTU_PRGM_ACADEMICO'].apply(lambda x: 'TURISMO' if 'TURIS' in x else x)\n",
        "  z_copy['ESTU_PRGM_ACADEMICO'] = z_copy['ESTU_PRGM_ACADEMICO'].apply(lambda x: 'BIBLIOTECOLOGIA' if 'BIBLIO' in x else x)\n",
        "  z_copy['ESTU_PRGM_ACADEMICO'] = z_copy['ESTU_PRGM_ACADEMICO'].apply(lambda x: 'FILOSOFIA' if 'FILOS' in x else x)\n",
        "  z_copy['ESTU_PRGM_ACADEMICO'] = z_copy['ESTU_PRGM_ACADEMICO'].apply(lambda x: 'FILOLOGIA' if 'FILOL' in x else x)\n",
        "  z_copy['ESTU_PRGM_ACADEMICO'] = z_copy['ESTU_PRGM_ACADEMICO'].apply(lambda x: 'ODONTOLOGIA' if 'ODONTOLOG' in x else x)\n",
        "  z_copy['ESTU_PRGM_ACADEMICO'] = z_copy['ESTU_PRGM_ACADEMICO'].apply(lambda x: 'BIOLOGIA Y MICROBIOLOGIA' if 'BIOL' in x else x)\n",
        "  z_copy['ESTU_PRGM_ACADEMICO'] = z_copy['ESTU_PRGM_ACADEMICO'].apply(lambda x: 'ECOLOGIA' if x.startswith('ECOL')   else x)\n",
        "  z_copy['ESTU_PRGM_ACADEMICO'] = z_copy['ESTU_PRGM_ACADEMICO'].apply(lambda x: 'BACTERIOLOGIA' if 'BACT' in x else x)\n",
        "  z_copy['ESTU_PRGM_ACADEMICO'] = z_copy['ESTU_PRGM_ACADEMICO'].apply(lambda x: 'CIENCIAS CULTURALES' if 'CULT' in x else x)\n",
        "  z_copy['ESTU_PRGM_ACADEMICO'] = z_copy['ESTU_PRGM_ACADEMICO'].apply(lambda x: 'INSTRUMENTACION QUIRURGICA' if 'INSTRUMENTACION' in x else x)\n",
        "  z_copy['ESTU_PRGM_ACADEMICO'] = z_copy['ESTU_PRGM_ACADEMICO'].apply(lambda x: 'CIENCIAS MARITIMAS Y AERONAUTICAS' if ('MILIT' in x or 'NAVALES' in x or 'NAU' in x) else x)\n",
        "\n",
        "\n",
        "  # Calcula el conteo de cada valor en la columna 'ESTU_PRGM_ACADEMICO'\n",
        "  conteo_valores = z_copy['ESTU_PRGM_ACADEMICO'].value_counts()\n",
        "\n",
        "  # Obtén los valores que tienen menos de N registros\n",
        "  valores_menos_de_20 = conteo_valores[conteo_valores <= 30]\n",
        "  valores_menos_de_20\n",
        "\n",
        "  # Reemplaza los valores que tienen menos de N registros con 'OTRO PROGRAMA'\n",
        "  for valor in valores_menos_de_20.index:\n",
        "      z_copy.loc[z_copy['ESTU_PRGM_ACADEMICO'] == valor, 'ESTU_PRGM_ACADEMICO'] = 'OTRO PROGRAMA'\n",
        "\n",
        "  z_copy = pd.get_dummies(z_copy, columns= [\"ESTU_PRGM_ACADEMICO\",\"ESTU_PRGM_DEPARTAMENTO\",\"FAMI_EDUCACIONPADRE\",\"FAMI_EDUCACIONMADRE\", \"ESTU_PRIVADO_LIBERTAD\"])\n",
        "\n",
        "\n",
        "  return z_copy"
      ],
      "metadata": {
        "id": "kcj04lQFf00f"
      },
      "execution_count": 3,
      "outputs": []
    },
    {
      "cell_type": "markdown",
      "source": [
        "Aplicamos nuestra función de limpieza a nuestra base de datos"
      ],
      "metadata": {
        "id": "DQ5Rbn-r0d9O"
      }
    },
    {
      "cell_type": "code",
      "source": [
        "lentr = len(df_train)\n",
        "\n",
        "train_labels = df_train[['ID', 'RENDIMIENTO_GLOBAL']]\n",
        "\n",
        "# Definir las columnas de origen, excluyendo la variable objetivo\n",
        "source_cols = [i for i in df_train.columns if i != \"RENDIMIENTO_GLOBAL\"]\n",
        "\n",
        "# Combinar los datos de entrenamiento y prueba para preprocesamiento\n",
        "all_data = pd.concat((df_train[source_cols], df_test[source_cols]))\n",
        "all_data.index = range(len(all_data))\n",
        "\n",
        "# Limpiar los datos usando la función clean_data\n",
        "all_data = clean_data(all_data)\n",
        "\n",
        "#Poner 0 y 1 en ves de False y True\n",
        "for col in all_data.columns:\n",
        "    if all_data[col].dtype == 'bool':\n",
        "        all_data[col] = all_data[col].astype(int)\n",
        "\n",
        "# Dividir los datos combinados nuevamente en conjuntos de entrenamiento y prueba\n",
        "train_listos = all_data[all_data['ID'].isin(train_labels['ID'])]\n",
        "test_listos = all_data[~all_data['ID'].isin(train_labels['ID'])]\n",
        "\n",
        "train_listos = train_listos.merge(train_labels, on='ID', how='left')\n"
      ],
      "metadata": {
        "colab": {
          "base_uri": "https://localhost:8080/"
        },
        "id": "rTWK1BDgaVKT",
        "outputId": "b13d02d6-e9b4-41a1-db3c-0ae7b11e78d9"
      },
      "execution_count": 4,
      "outputs": [
        {
          "output_type": "stream",
          "name": "stdout",
          "text": [
            "['ESTU_PRGM_ACADEMICO', 'ESTU_PRGM_DEPARTAMENTO', 'ESTU_VALORMATRICULAUNIVERSIDAD', 'ESTU_HORASSEMANATRABAJA', 'FAMI_ESTRATOVIVIENDA', 'FAMI_TIENEINTERNET', 'FAMI_EDUCACIONPADRE', 'FAMI_TIENELAVADORA', 'FAMI_TIENEAUTOMOVIL', 'ESTU_PRIVADO_LIBERTAD', 'ESTU_PAGOMATRICULAPROPIO', 'FAMI_TIENECOMPUTADOR', 'FAMI_TIENEINTERNET.1', 'FAMI_EDUCACIONMADRE']\n"
          ]
        },
        {
          "output_type": "stream",
          "name": "stderr",
          "text": [
            "/tmp/ipython-input-3-2679967239.py:12: FutureWarning: A value is trying to be set on a copy of a DataFrame or Series through chained assignment using an inplace method.\n",
            "The behavior will change in pandas 3.0. This inplace method will never work because the intermediate object on which we are setting values always behaves as a copy.\n",
            "\n",
            "For example, when doing 'df[col].method(value, inplace=True)', try using 'df.method({col: value}, inplace=True)' or df[col] = df[col].method(value) instead, to perform the operation inplace on the original object.\n",
            "\n",
            "\n",
            "  z_copy[column].fillna(valor_comun[column], inplace=True)\n",
            "/tmp/ipython-input-3-2679967239.py:21: FutureWarning: Downcasting behavior in `replace` is deprecated and will be removed in a future version. To retain the old behavior, explicitly call `result.infer_objects(copy=False)`. To opt-in to the future behavior, set `pd.set_option('future.no_silent_downcasting', True)`\n",
            "  z_copy['ESTU_VALORMATRICULAUNIVERSIDAD'].replace(['Más de 7 millones'],[7],inplace=True)\n",
            "/tmp/ipython-input-3-2679967239.py:27: FutureWarning: Downcasting behavior in `replace` is deprecated and will be removed in a future version. To retain the old behavior, explicitly call `result.infer_objects(copy=False)`. To opt-in to the future behavior, set `pd.set_option('future.no_silent_downcasting', True)`\n",
            "  z_copy['FAMI_ESTRATOVIVIENDA'].replace(['Estrato 1','Estrato 2','Estrato 3','Estrato 4','Estrato 5','Estrato 6','Sin Estrato'],[1,2,3,4,5,6,0],inplace=True)\n",
            "/tmp/ipython-input-3-2679967239.py:32: FutureWarning: Downcasting behavior in `replace` is deprecated and will be removed in a future version. To retain the old behavior, explicitly call `result.infer_objects(copy=False)`. To opt-in to the future behavior, set `pd.set_option('future.no_silent_downcasting', True)`\n",
            "  z_copy[\"FAMI_TIENEINTERNET\"] = z_copy[\"FAMI_TIENEINTERNET\"].replace({'Si': 1, 'No': 0})\n",
            "/tmp/ipython-input-3-2679967239.py:33: FutureWarning: Downcasting behavior in `replace` is deprecated and will be removed in a future version. To retain the old behavior, explicitly call `result.infer_objects(copy=False)`. To opt-in to the future behavior, set `pd.set_option('future.no_silent_downcasting', True)`\n",
            "  z_copy[\"ESTU_PAGOMATRICULAPROPIO\"] = z_copy[\"ESTU_PAGOMATRICULAPROPIO\"].replace({'Si': 1, 'No': 0})\n",
            "/tmp/ipython-input-3-2679967239.py:34: FutureWarning: Downcasting behavior in `replace` is deprecated and will be removed in a future version. To retain the old behavior, explicitly call `result.infer_objects(copy=False)`. To opt-in to the future behavior, set `pd.set_option('future.no_silent_downcasting', True)`\n",
            "  z_copy[\"FAMI_TIENELAVADORA\"] = z_copy[\"FAMI_TIENELAVADORA\"].replace({'Si': 1, 'No': 0})\n",
            "/tmp/ipython-input-3-2679967239.py:35: FutureWarning: Downcasting behavior in `replace` is deprecated and will be removed in a future version. To retain the old behavior, explicitly call `result.infer_objects(copy=False)`. To opt-in to the future behavior, set `pd.set_option('future.no_silent_downcasting', True)`\n",
            "  z_copy[\"FAMI_TIENEAUTOMOVIL\"] = z_copy[\"FAMI_TIENEAUTOMOVIL\"].replace({'Si': 1, 'No': 0})\n",
            "/tmp/ipython-input-3-2679967239.py:36: FutureWarning: Downcasting behavior in `replace` is deprecated and will be removed in a future version. To retain the old behavior, explicitly call `result.infer_objects(copy=False)`. To opt-in to the future behavior, set `pd.set_option('future.no_silent_downcasting', True)`\n",
            "  z_copy[\"ESTU_PRIVADO_LIBERTAD\"] = z_copy[\"ESTU_PRIVADO_LIBERTAD\"].replace({'S': 1, 'N': 0})\n",
            "/tmp/ipython-input-3-2679967239.py:37: FutureWarning: Downcasting behavior in `replace` is deprecated and will be removed in a future version. To retain the old behavior, explicitly call `result.infer_objects(copy=False)`. To opt-in to the future behavior, set `pd.set_option('future.no_silent_downcasting', True)`\n",
            "  z_copy[\"FAMI_TIENECOMPUTADOR\"] = z_copy[\"FAMI_TIENECOMPUTADOR\"].replace({'Si': 1, 'No': 0})\n",
            "/tmp/ipython-input-3-2679967239.py:38: FutureWarning: Downcasting behavior in `replace` is deprecated and will be removed in a future version. To retain the old behavior, explicitly call `result.infer_objects(copy=False)`. To opt-in to the future behavior, set `pd.set_option('future.no_silent_downcasting', True)`\n",
            "  z_copy[\"FAMI_TIENEINTERNET.1\"] = z_copy[\"FAMI_TIENEINTERNET.1\"].replace({'Si': 1, 'No': 0})\n"
          ]
        }
      ]
    },
    {
      "cell_type": "code",
      "source": [
        "#Transformamos las 4 categorias de rendimiento a numeros\n",
        "label_encoder = LabelEncoder()\n",
        "train_listos['RENDIMIENTO_GLOBAL'] = label_encoder.fit_transform(train_listos['RENDIMIENTO_GLOBAL'])"
      ],
      "metadata": {
        "id": "UgUprrKsa4QK"
      },
      "execution_count": 5,
      "outputs": []
    },
    {
      "cell_type": "code",
      "source": [
        "#Dividimos la base de datos train en entrenamiento y testeo (Excluimos el rendimiento y el ID)\n",
        "X = train_listos.drop(['RENDIMIENTO_GLOBAL', 'ID'], axis=1)\n",
        "y = train_listos['RENDIMIENTO_GLOBAL']\n",
        "\n",
        "X_train, X_test, y_train, y_test = train_test_split(X, y, test_size=0.2, random_state=42)"
      ],
      "metadata": {
        "id": "ZbZq299Va7R3"
      },
      "execution_count": 6,
      "outputs": []
    },
    {
      "cell_type": "markdown",
      "source": [
        "# **Entrenamiento del modelo**"
      ],
      "metadata": {
        "id": "dc495kwjO7rf"
      }
    },
    {
      "cell_type": "code",
      "source": [
        "start_time = time.time()\n",
        "\n",
        "logistic_model = LogisticRegression(\n",
        "    multi_class='multinomial',\n",
        "    solver='saga',\n",
        "    max_iter=200,\n",
        "    n_jobs=-1,\n",
        "    random_state=42\n",
        ")\n",
        "\n",
        "logistic_model.fit(X_train, y_train)\n",
        "end_time = time.time()\n"
      ],
      "metadata": {
        "id": "lC-8BUpgPLKZ"
      },
      "execution_count": 7,
      "outputs": []
    },
    {
      "cell_type": "code",
      "source": [
        "# Predecir en el conjunto de prueba\n",
        "y_pred = logistic_model.predict(X_test)\n",
        "accuracy = accuracy_score(y_test, y_pred)\n",
        "\n",
        "print(f'Accuracy: {accuracy}')\n",
        "print(f'Tiempo de entrenamiento: {end_time - start_time} segundos')\n"
      ],
      "metadata": {
        "colab": {
          "base_uri": "https://localhost:8080/"
        },
        "id": "73xp1GyNUa35",
        "outputId": "08d874d6-9340-4604-effe-5ebf422f91e6"
      },
      "execution_count": 8,
      "outputs": [
        {
          "output_type": "stream",
          "name": "stdout",
          "text": [
            "Accuracy: 0.3439494584837545\n",
            "Tiempo de entrenamiento: 767.0319833755493 segundos\n"
          ]
        }
      ]
    },
    {
      "cell_type": "markdown",
      "source": [
        "# **Creación de archivo con las variables necesarias**"
      ],
      "metadata": {
        "id": "w9kATN6xVxXm"
      }
    },
    {
      "cell_type": "code",
      "source": [
        "ids = test_listos['ID']\n",
        "new_data_processed = test_listos.drop('ID', axis=1)\n",
        "\n",
        "\n",
        "predictions = logistic_model.predict(new_data_processed)\n",
        "test_listos['RENDIMIENTO_GLOBAL'] = predictions\n",
        "test = test_listos[['ID', 'RENDIMIENTO_GLOBAL']]\n",
        "mapping = {2: 'medio-alto', 0: 'alto', 1: 'bajo', 3: 'medio-bajo'}\n",
        "# Aplicar el mapeo a la columna RENDIMIENTO_GLOBAL\n",
        "test['RENDIMIENTO_GLOBAL'] = test['RENDIMIENTO_GLOBAL'].map(mapping)\n",
        "\n",
        "# Guardar el DataFrame de envío en un archivo CSV\n",
        "test.to_csv('archivo_logistico.csv', index=False)"
      ],
      "metadata": {
        "id": "x1nQLhAVUb0I"
      },
      "execution_count": 9,
      "outputs": []
    }
  ]
}